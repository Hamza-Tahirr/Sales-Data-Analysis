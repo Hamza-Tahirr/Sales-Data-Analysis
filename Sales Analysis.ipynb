{
 "cells": [
  {
   "cell_type": "markdown",
   "metadata": {},
   "source": [
    "# What we are going to do ? || Hum kia analyse krne walay hain?\n",
    " \n",
    "Q1. What is the overall sales trend?    || Kia Kia Bik rha hy ajkal kiska trend hy? \n",
    "\n",
    "Q2. Which are the Top 10 products by sales? || 10 behtareen Products kon konse hain?\n",
    "\n",
    "Q3. Which are the Most Selling Products? || sabse zada bikne wali chezain kon konsi hain?\n",
    "\n",
    "Q4. Which is the most preferred Ship Mode? || \n",
    "\n",
    "Q5. Which are the Most Profitable Category and Sub-Category in the market? || Sab se zada munafay mand chez kia hy market mei\n",
    "\n"
   ]
  },
  {
   "cell_type": "markdown",
   "metadata": {},
   "source": [
    "## Importing Libraries"
   ]
  },
  {
   "cell_type": "code",
   "execution_count": null,
   "metadata": {},
   "outputs": [],
   "source": [
    "#FOR DATA MANIPULATION \\\\ DATA KO EXTRACT KRNA STRUCTURES ADN FUNCTIONS PR KAAM KRNA DATA KY ETC... DATA MANIPULATION KY LIYE PANDAS USE KRTY HAIN\n",
    "import pandas as pd\n",
    "\n",
    "#DATA VISUALISATION \\\\ DATA KO KHOBSORAT TAREQAY SE DIKHANA (PLOTS,GRAPHS ETC).... HUM SEABORN AND PLOTS KY LIYE MATPLOTLIB KA ISTEMAL KRTY\n",
    "import seaborn as sns\n",
    "\n",
    "import matplotlib.pyplot as plt\n",
    "%matplotlib inline  # using this for inline ploting || jis line pr kaam krrhy uspr plot krne ky liye use hota\n",
    "\n",
    "# ALERT ( if pandas or seaborn )"
   ]
  }
 ],
 "metadata": {
  "kernelspec": {
   "display_name": "Python 3",
   "language": "python",
   "name": "python3"
  },
  "language_info": {
   "codemirror_mode": {
    "name": "ipython",
    "version": 3
   },
   "file_extension": ".py",
   "mimetype": "text/x-python",
   "name": "python",
   "nbconvert_exporter": "python",
   "pygments_lexer": "ipython3",
   "version": "3.8.5"
  }
 },
 "nbformat": 4,
 "nbformat_minor": 4
}
